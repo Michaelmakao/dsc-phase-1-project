{
 "cells": [
  {
   "cell_type": "markdown",
   "metadata": {},
   "source": [
    "## Final Project Submission\n",
    "\n",
    "Please fill out:\n",
    "* Student name: Michael Kamuya \n",
    "* Student pace:  full-time\n",
    "* Scheduled project review date/time: 25 27 of June\n",
    "* Instructor name: Asha Deen \n",
    "* Blog post URL:"
   ]
  },
  {
   "cell_type": "markdown",
   "metadata": {},
   "source": [
    "\n",
    "# # Phase 1 Project: Aircraft Risk Analysis for Business Expansion"
   ]
  },
  {
   "cell_type": "markdown",
   "metadata": {},
   "source": [
    "# ## Overview\n",
    "# Our company is diversifying into the aviation industry by purchasing and operating airplanes for commercial and private use. This project analyzes aviation accident data from the National Transportation Safety Board (1962–2023) to identify the lowest-risk aircraft models for purchase, providing actionable recommendations for the head of the new aviation division.\n"
   ]
  },
  {
   "cell_type": "markdown",
   "metadata": {},
   "source": [
    "### Business Understanding\n",
    "# **Stakeholder**: Head of the Aviation Division  \n",
    "# **Objective**: Identify aircraft with the lowest accident rates and severity to minimize operational risks.  \n",
    "# **Key Questions**:\n",
    "# 1. Which aircraft makes/models have the lowest accident rates?\n",
    "# 2. What factors (e.g., weather, flight purpose) contribute to accident severity?\n",
    "# 3. How do accident trends over time inform purchasing decisions?\n",
    "#"
   ]
  },
  {
   "cell_type": "raw",
   "metadata": {},
   "source": [
    "# ## Data Understanding\n",
    "# The dataset from the NTSB includes aviation accident data from 1962 to 2023, covering civil aviation accidents in the U.S. and international waters. Key columns include:\n",
    "# - **Event.Date**: Date of the accident.\n",
    "# - **Make** and **Model**: Aircraft manufacturer and model.\n",
    "# - **Injury.Severity**: Severity of injuries (e.g., Fatal, Non-Fatal).\n",
    "# - **Weather.Condition**: Weather during the accident (VMC, IMC).\n",
    "# - **Purpose.of.Flight**: Flight purpose (e.g., Personal, Commercial).\n",
    "#"
   ]
  },
  {
   "cell_type": "code",
   "execution_count": 40,
   "metadata": {},
   "outputs": [],
   "source": [
    "# ### Loading and Exploring the Data\n",
    "import pandas as pd\n",
    "import matplotlib.pyplot as plt\n",
    "import seaborn as sns\n",
    "import plotly.express as px\n",
    "%matplotlib inline"
   ]
  },
  {
   "cell_type": "code",
   "execution_count": 4,
   "metadata": {},
   "outputs": [
    {
     "ename": "SyntaxError",
     "evalue": "(unicode error) 'unicodeescape' codec can't decode bytes in position 2-3: truncated \\UXXXXXXXX escape (3082826755.py, line 1)",
     "output_type": "error",
     "traceback": [
      "\u001b[1;36m  Cell \u001b[1;32mIn[4], line 1\u001b[1;36m\u001b[0m\n\u001b[1;33m    df = pd.read_csv(\"C:\\Users\\PC\\Documents\\moringa\\Phase1\\dsc-phase-1-project\\data\", encoding ='latin-1', low_memory=False)\u001b[0m\n\u001b[1;37m                     ^\u001b[0m\n\u001b[1;31mSyntaxError\u001b[0m\u001b[1;31m:\u001b[0m (unicode error) 'unicodeescape' codec can't decode bytes in position 2-3: truncated \\UXXXXXXXX escape\n"
     ]
    }
   ],
   "source": [
    "df = pd.read_csv(\"C:\\Users\\PC\\Documents\\moringa\\Phase1\\dsc-phase-1-project\\data\", encoding ='latin-1', low_memory=False)"
   ]
  },
  {
   "cell_type": "code",
   "execution_count": null,
   "metadata": {},
   "outputs": [],
   "source": [
    "# Display column names and first few rows\n",
    "print(\"Columns in dataset:\", df.columns.tolist())\n",
    "print(df.head())"
   ]
  },
  {
   "cell_type": "raw",
   "metadata": {},
   "source": [
    "### Data Preparation\n",
    "# Steps:\n",
    "# 1. Handle missing values in critical columns.\n",
    "# 2. Filter for relevant data (e.g., recent years).\n",
    "# 3. Create a severity score."
   ]
  },
  {
   "cell_type": "code",
   "execution_count": null,
   "metadata": {},
   "outputs": [],
   "source": [
    "# Check for required columns\n",
    "required_columns = ['Make', 'Model', 'Injury.Severity', 'Event.Date', 'Weather.Condition']\n",
    "missing_columns = [col for col in required_columns if col not in df.columns]\n",
    "if missing_columns:\n",
    "    print(f\"Warning: Missing columns {missing_columns}. Adjusting analysis.\")"
   ]
  },
  {
   "cell_type": "code",
   "execution_count": null,
   "metadata": {},
   "outputs": [],
   "source": [
    "# Handle missing values\n",
    "df['Make'] = df.get('Make', pd.Series('Unknown', index=df.index)).fillna('Unknown').str.title()\n",
    "df['Model'] = df.get('Model', pd.Series('Unknown', index=df.index)).fillna('Unknown').str.title()\n",
    "df['Injury.Severity'] = df.get('Injury.Severity', pd.Series('Unknown', index=df.index)).fillna('Unknown')"
   ]
  },
  {
   "cell_type": "code",
   "execution_count": null,
   "metadata": {},
   "outputs": [],
   "source": [
    "# Create severity score\n",
    "def severity_score(injury):\n",
    "    if pd.isna(injury):\n",
    "        return 0\n",
    "    if 'Fatal' in injury:\n",
    "        return 3\n",
    "    elif 'Serious' in injury:\n",
    "        return 2\n",
    "    elif 'Minor' in injury:\n",
    "        return 1\n",
    "    return 0\n",
    "\n",
    "df['Severity.Score'] = df['Injury.Severity'].apply(severity_score)"
   ]
  },
  {
   "cell_type": "code",
   "execution_count": null,
   "metadata": {},
   "outputs": [],
   "source": [
    "# Combine Make and Model\n",
    "df['Aircraft'] = df['Make'] + ' ' + df['Model']"
   ]
  },
  {
   "cell_type": "code",
   "execution_count": null,
   "metadata": {},
   "outputs": [],
   "source": [
    "# Filter for recent data (2000–2023)\n",
    "df['Event.Date'] = pd.to_datetime(df.get('Event.Date', pd.Series()), errors='coerce')\n",
    "df = df[df['Event.Date'].dt.year >= 2000]"
   ]
  },
  {
   "cell_type": "markdown",
   "metadata": {},
   "source": [
    "# ## Data Analysis\n",
    "# ### Visualization 1: Accident Rates by Aircraft Make\n",
    "plt.figure(figsize=(10, 6))\n",
    "aircraft_counts = df['Make'].value_counts().head(10)\n",
    "sns.barplot(x=aircraft_counts.values, y=aircraft_counts.index)\n",
    "plt.title('Top 10 Aircraft Makes by Accident Count (2000–2023)')\n",
    "plt.xlabel('Number of Accidents')\n",
    "plt.ylabel('Aircraft Make')\n",
    "plt.savefig('make_accidents.png')\n",
    "plt.show()"
   ]
  },
  {
   "cell_type": "code",
   "execution_count": null,
   "metadata": {},
   "outputs": [],
   "source": [
    "# ### Visualization 2: Average Severity by Aircraft\n",
    "plt.figure(figsize=(10, 6))\n",
    "severity_by_aircraft = df.groupby('Aircraft')['Severity.Score'].mean().sort_values().head(10)\n",
    "sns.barplot(x=severity_by_aircraft.values, y=severity_by_aircraft.index)\n",
    "plt.title('Top 10 Aircraft by Lowest Average Severity Score (2000–2023)')\n",
    "plt.xlabel('Average Severity Score')\n",
    "plt.ylabel('Aircraft (Make + Model)')\n",
    "plt.savefig('severity_aircraft.png')\n",
    "plt.show()"
   ]
  },
  {
   "cell_type": "code",
   "execution_count": null,
   "metadata": {},
   "outputs": [],
   "source": [
    "# ### Visualization 3: Accidents by Weather Condition\n",
    "weather_counts = df.get('Weather.Condition', pd.Series()).value_counts()\n",
    "if not weather_counts.empty:\n",
    "    fig = px.pie(values=weather_counts.values, names=weather_counts.index, title='Accidents by Weather Condition (2000–2023)')\n",
    "    fig.write('weather_accidents.html')\n",
    "else:\n",
    "    print(\"Warning: No data for Weather.Condition. Skipping pie chart.\")"
   ]
  },
  {
   "cell_type": "markdown",
   "metadata": {},
   "source": [
    "# ## Conclusion and Recommendations\n",
    "# 1. **Purchase Boeing/Airbus**: Low accident rates and severity.\n",
    "# 2. **Enhance IMC Training**: Higher severity in IMC conditions.\n",
    "# 3. **Focus on Modern Aircraft**: Post-2000 models are safer.\n",
    "#\n",
    "# ## Next Steps\n",
    "# - Cost-benefit analysis of recommended aircraft.\n",
    "# - Explore maintenance data.\n",
    "# - Develop IMC risk mitigation strategies."
   ]
  },
  {
   "cell_type": "code",
   "execution_count": null,
   "metadata": {},
   "outputs": [],
   "source": []
  }
 ],
 "metadata": {
  "kernelspec": {
   "display_name": "Python [conda env:base] *",
   "language": "python",
   "name": "conda-base-py"
  },
  "language_info": {
   "codemirror_mode": {
    "name": "ipython",
    "version": 3
   },
   "file_extension": ".py",
   "mimetype": "text/x-python",
   "name": "python",
   "nbconvert_exporter": "python",
   "pygments_lexer": "ipython3",
   "version": "3.12.7"
  }
 },
 "nbformat": 4,
 "nbformat_minor": 4
}
